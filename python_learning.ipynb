{
 "cells": [
  {
   "cell_type": "code",
   "execution_count": 1,
   "metadata": {},
   "outputs": [],
   "source": [
    "class ListNode:\n",
    "    def __init__(self, val=0, next=None):\n",
    "        self.val = val\n",
    "        self.next = next"
   ]
  },
  {
   "cell_type": "code",
   "execution_count": 4,
   "metadata": {},
   "outputs": [
    {
     "ename": "TypeError",
     "evalue": "__init__() takes from 1 to 3 positional arguments but 8 were given",
     "output_type": "error",
     "traceback": [
      "\u001b[1;31m---------------------------------------------------------------------------\u001b[0m",
      "\u001b[1;31mTypeError\u001b[0m                                 Traceback (most recent call last)",
      "Input \u001b[1;32mIn [4]\u001b[0m, in \u001b[0;36m<module>\u001b[1;34m\u001b[0m\n\u001b[1;32m----> 1\u001b[0m l1 \u001b[38;5;241m=\u001b[39m \u001b[43mListNode\u001b[49m\u001b[43m(\u001b[49m\u001b[38;5;241;43m9\u001b[39;49m\u001b[43m,\u001b[49m\u001b[38;5;241;43m9\u001b[39;49m\u001b[43m,\u001b[49m\u001b[38;5;241;43m9\u001b[39;49m\u001b[43m,\u001b[49m\u001b[38;5;241;43m9\u001b[39;49m\u001b[43m,\u001b[49m\u001b[38;5;241;43m9\u001b[39;49m\u001b[43m,\u001b[49m\u001b[38;5;241;43m9\u001b[39;49m\u001b[43m,\u001b[49m\u001b[38;5;241;43m9\u001b[39;49m\u001b[43m)\u001b[49m\n\u001b[0;32m      2\u001b[0m \u001b[38;5;28mprint\u001b[39m(l1\u001b[38;5;241m.\u001b[39mnext)\n",
      "\u001b[1;31mTypeError\u001b[0m: __init__() takes from 1 to 3 positional arguments but 8 were given"
     ]
    }
   ],
   "source": [
    "l1 = ListNode([9,9,9,9,9,9,9])\n",
    "print(l1.next)"
   ]
  },
  {
   "cell_type": "code",
   "execution_count": 33,
   "metadata": {},
   "outputs": [],
   "source": [
    "class Solution:\n",
    "    def addTwoNumbers(self, l1: Optional[ListNode], l2: Optional[ListNode]) -> Optional[ListNode]:\n",
    "        a = abs(len_link(l1)-len_link(l2))\n",
    "        if len(l1) > len(l2):\n",
    "            for i in range(a):\n",
    "                l2.insert (0,0)\n",
    "        elif len(l1) < len(l2):\n",
    "            for i in range(a):\n",
    "                l1.insert (0,0)\n",
    "        l3=[]\n",
    "        z=0\n",
    "        for i in range(len(l1)):\n",
    "            k=l1[len(l1)-1-i]\n",
    "            h=l2[len(l2)-1-i]\n",
    "            total = k+h+z\n",
    "            if total < 10:\n",
    "                l3.append(total)\n",
    "                z=0\n",
    "            else:\n",
    "                l3.append(total-10)\n",
    "                z=1\n",
    "            return l3"
   ]
  },
  {
   "cell_type": "code",
   "execution_count": 38,
   "metadata": {},
   "outputs": [
    {
     "data": {
      "text/plain": [
       "[0, 0, 0, 9, 9, 9, 9]"
      ]
     },
     "execution_count": 38,
     "metadata": {},
     "output_type": "execute_result"
    }
   ],
   "source": [
    "l2"
   ]
  },
  {
   "cell_type": "code",
   "execution_count": 31,
   "metadata": {},
   "outputs": [
    {
     "data": {
      "text/plain": [
       "[8, 9, 9, 9, 0, 0, 0]"
      ]
     },
     "execution_count": 31,
     "metadata": {},
     "output_type": "execute_result"
    }
   ],
   "source": [
    "l3"
   ]
  },
  {
   "cell_type": "code",
   "execution_count": 22,
   "metadata": {},
   "outputs": [],
   "source": [
    "    def addTwoNumbers(l1, l2):\n",
    "        a = abs(len(l1)-len(l2))\n",
    "        if len(l1) > len(l2):\n",
    "            for i in range(a):\n",
    "                l2.insert (0,0)\n",
    "        elif len(l1) < len(l2):\n",
    "            for i in range(a):\n",
    "                l1.insert (0,0)\n",
    "        l3=[]\n",
    "        z=0\n",
    "        for i in range(len(l1)):\n",
    "            k=l1[len(l1)-1-i]\n",
    "            h=l2[len(l2)-1-i]\n",
    "            total = k+h+z\n",
    "            if total < 10:\n",
    "                l3.append(total)\n",
    "                z=0\n",
    "            else:\n",
    "                l3.append(total-10)\n",
    "                z=1\n",
    "            return l3"
   ]
  },
  {
   "cell_type": "code",
   "execution_count": 24,
   "metadata": {},
   "outputs": [
    {
     "ename": "NameError",
     "evalue": "name 'l3' is not defined",
     "output_type": "error",
     "traceback": [
      "\u001b[1;31m---------------------------------------------------------------------------\u001b[0m",
      "\u001b[1;31mNameError\u001b[0m                                 Traceback (most recent call last)",
      "Input \u001b[1;32mIn [24]\u001b[0m, in \u001b[0;36m<module>\u001b[1;34m\u001b[0m\n\u001b[1;32m----> 1\u001b[0m \u001b[43ml3\u001b[49m\n",
      "\u001b[1;31mNameError\u001b[0m: name 'l3' is not defined"
     ]
    }
   ],
   "source": [
    "l3"
   ]
  },
  {
   "cell_type": "code",
   "execution_count": 5,
   "metadata": {},
   "outputs": [],
   "source": [
    "a = abs(len(l1)-len(l2))\n",
    "if len(l1) > len(l2):\n",
    "    for i in range(a):\n",
    "        l2.insert (0,0)\n",
    "elif len(l1) < len(l2):\n",
    "        for i in range(a):\n",
    "                    l1.insert (0,0)"
   ]
  },
  {
   "cell_type": "code",
   "execution_count": 12,
   "metadata": {},
   "outputs": [
    {
     "name": "stdout",
     "output_type": "stream",
     "text": [
      "0\n",
      "1\n",
      "2\n",
      "3\n"
     ]
    }
   ],
   "source": [
    "for i in range(len(nums)): {\n",
    "    print(i)\n",
    "}"
   ]
  },
  {
   "cell_type": "code",
   "execution_count": 22,
   "metadata": {},
   "outputs": [],
   "source": [
    "l3.append(1)"
   ]
  },
  {
   "cell_type": "code",
   "execution_count": 24,
   "metadata": {},
   "outputs": [],
   "source": [
    "z=range(5)"
   ]
  },
  {
   "cell_type": "code",
   "execution_count": 25,
   "metadata": {},
   "outputs": [
    {
     "ename": "IndexError",
     "evalue": "range object index out of range",
     "output_type": "error",
     "traceback": [
      "\u001b[1;31m---------------------------------------------------------------------------\u001b[0m",
      "\u001b[1;31mIndexError\u001b[0m                                Traceback (most recent call last)",
      "\u001b[1;32m~\\AppData\\Local\\Temp/ipykernel_39540/3453317605.py\u001b[0m in \u001b[0;36m<module>\u001b[1;34m\u001b[0m\n\u001b[1;32m----> 1\u001b[1;33m \u001b[0mz\u001b[0m\u001b[1;33m[\u001b[0m\u001b[1;36m5\u001b[0m\u001b[1;33m]\u001b[0m\u001b[1;33m\u001b[0m\u001b[1;33m\u001b[0m\u001b[0m\n\u001b[0m",
      "\u001b[1;31mIndexError\u001b[0m: range object index out of range"
     ]
    }
   ],
   "source": [
    "            l3=[]\n",
    "            z=0\n",
    "            for i in range(len(l1)):\n",
    "                j = len(l2)\n",
    "                if i <= j-1:\n",
    "                    k = l1[len(l1)-1-i]\n",
    "                    h = l2[len(l2)-1-i] \n",
    "                    if k+h+z < 10:\n",
    "                        l3.append(k+h+z)\n",
    "                        z=0\n",
    "                        else:\n",
    "                            l3.append(k+h+z-10)\n",
    "                            z=1\n",
    "                    else:\n",
    "                        k = l1[len(l1)-1-i]\n",
    "                        h = 0\n",
    "                        if k+h+z < 10:\n",
    "                            l3.append(k+h+z)\n",
    "                            z=0\n",
    "                            else:\n",
    "                                l3.append(k+h+z-10)\n",
    "                                z=1\n",
    "            else:\n",
    "                l3=[]\n",
    "                z=0\n",
    "                for i in range()"
   ]
  }
 ],
 "metadata": {
  "interpreter": {
   "hash": "56dd44e707e82d1184683f020fed93c1c4c1d1b9148b362944c3f4ce90f99c95"
  },
  "kernelspec": {
   "display_name": "Python 3.9.5 64-bit ('base': conda)",
   "language": "python",
   "name": "python3"
  },
  "language_info": {
   "codemirror_mode": {
    "name": "ipython",
    "version": 3
   },
   "file_extension": ".py",
   "mimetype": "text/x-python",
   "name": "python",
   "nbconvert_exporter": "python",
   "pygments_lexer": "ipython3",
   "version": "3.9.9"
  },
  "orig_nbformat": 4
 },
 "nbformat": 4,
 "nbformat_minor": 2
}
